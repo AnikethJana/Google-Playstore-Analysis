{
 "cells": [
  {
   "cell_type": "code",
   "execution_count": 1,
   "id": "7c0bb39a",
   "metadata": {},
   "outputs": [],
   "source": [
    "import pandas as pd\n",
    "import numpy as np"
   ]
  },
  {
   "cell_type": "code",
   "execution_count": 2,
   "id": "9c2556fe",
   "metadata": {},
   "outputs": [],
   "source": [
    "# 1. Load user reviews\n",
    "reviews = pd.read_csv(\"dataset/UserReview.csv\")"
   ]
  },
  {
   "cell_type": "code",
   "execution_count": 3,
   "id": "12577589",
   "metadata": {},
   "outputs": [],
   "source": [
    "# 2. Clean up missing values\n",
    "reviews.replace('nan', np.nan, inplace=True)\n",
    "reviews = reviews.dropna(subset=['Sentiment'])"
   ]
  },
  {
   "cell_type": "code",
   "execution_count": 4,
   "id": "3ed2fa9a",
   "metadata": {},
   "outputs": [],
   "source": [
    "# 3. Convert sentiment columns to numbers\n",
    "reviews['Sentiment_Polarity'] = reviews['Sentiment_Polarity'].astype(float)\n",
    "reviews['Sentiment_Subjectivity'] = reviews['Sentiment_Subjectivity'].astype(float)"
   ]
  },
  {
   "cell_type": "code",
   "execution_count": 5,
   "id": "8c192bf4",
   "metadata": {},
   "outputs": [],
   "source": [
    "# 4. Aggregate sentiment per app\n",
    "summary = reviews.groupby('App').agg(\n",
    "    Avg_Polarity=('Sentiment_Polarity', 'mean'),\n",
    "    Avg_Subjectivity=('Sentiment_Subjectivity', 'mean'),\n",
    "    Review_Count=('Sentiment_Polarity', 'count')\n",
    ").reset_index()"
   ]
  },
  {
   "cell_type": "code",
   "execution_count": 6,
   "id": "6d35a353",
   "metadata": {},
   "outputs": [],
   "source": [
    "# 5. Save the summary\n",
    "summary.to_csv(\"processed/UserReview_Aggregated.csv\", index=False)"
   ]
  },
  {
   "cell_type": "code",
   "execution_count": 7,
   "id": "b1089800",
   "metadata": {},
   "outputs": [
    {
     "name": "stdout",
     "output_type": "stream",
     "text": [
      "                                App  Avg_Polarity  Avg_Subjectivity  \\\n",
      "0             10 Best Foods for You      0.470733          0.495455   \n",
      "1  104 找工作 - 找工作 找打工 找兼職 履歷健檢 履歷診療室      0.392405          0.545516   \n",
      "2                              11st      0.181294          0.443957   \n",
      "3        1800 Contacts - Lens Store      0.318145          0.591098   \n",
      "4   1LINE – One Line with One Touch      0.196290          0.557315   \n",
      "\n",
      "   Review_Count  \n",
      "0           194  \n",
      "1            40  \n",
      "2            40  \n",
      "3            80  \n",
      "4            38  \n"
     ]
    }
   ],
   "source": [
    "# 6. Show a quick preview\n",
    "print(summary.head())"
   ]
  }
 ],
 "metadata": {
  "kernelspec": {
   "display_name": "Python 3",
   "language": "python",
   "name": "python3"
  },
  "language_info": {
   "codemirror_mode": {
    "name": "ipython",
    "version": 3
   },
   "file_extension": ".py",
   "mimetype": "text/x-python",
   "name": "python",
   "nbconvert_exporter": "python",
   "pygments_lexer": "ipython3",
   "version": "3.11.0"
  }
 },
 "nbformat": 4,
 "nbformat_minor": 5
}
