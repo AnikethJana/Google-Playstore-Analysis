{
 "cells": [
  {
   "cell_type": "code",
   "execution_count": 1,
   "id": "e6dfdf71",
   "metadata": {},
   "outputs": [],
   "source": [
    "import pandas as pd\n",
    "import numpy as np"
   ]
  },
  {
   "cell_type": "markdown",
   "id": "bd9c57c7",
   "metadata": {},
   "source": [
    "**Basic Structure**"
   ]
  },
  {
   "cell_type": "code",
   "execution_count": 2,
   "id": "6680fc5c",
   "metadata": {},
   "outputs": [
    {
     "name": "stdout",
     "output_type": "stream",
     "text": [
      "Shape:  (10841, 13)\n"
     ]
    }
   ],
   "source": [
    "df = pd.read_csv('dataset/PlayStoreData.csv')\n",
    "print(\"Shape: \",df.shape)"
   ]
  },
  {
   "cell_type": "code",
   "execution_count": 3,
   "id": "9736a346",
   "metadata": {},
   "outputs": [
    {
     "name": "stdout",
     "output_type": "stream",
     "text": [
      "                                                 App        Category  Rating  \\\n",
      "0     Photo Editor & Candy Camera & Grid & ScrapBook  ART_AND_DESIGN     4.1   \n",
      "1                                Coloring book moana  ART_AND_DESIGN     3.9   \n",
      "2  U Launcher Lite – FREE Live Cool Themes, Hide ...  ART_AND_DESIGN     4.7   \n",
      "3                              Sketch - Draw & Paint  ART_AND_DESIGN     4.5   \n",
      "4              Pixel Draw - Number Art Coloring Book  ART_AND_DESIGN     4.3   \n",
      "\n",
      "  Reviews  Size     Installs  Type Price Content Rating  \\\n",
      "0     159   19M      10,000+  Free     0       Everyone   \n",
      "1     967   14M     500,000+  Free     0       Everyone   \n",
      "2   87510  8.7M   5,000,000+  Free     0       Everyone   \n",
      "3  215644   25M  50,000,000+  Free     0           Teen   \n",
      "4     967  2.8M     100,000+  Free     0       Everyone   \n",
      "\n",
      "                      Genres      Last Updated         Current Ver  \\\n",
      "0               Art & Design   January 7, 2018               1.0.0   \n",
      "1  Art & Design;Pretend Play  January 15, 2018               2.0.0   \n",
      "2               Art & Design    August 1, 2018               1.2.4   \n",
      "3               Art & Design      June 8, 2018  Varies with device   \n",
      "4    Art & Design;Creativity     June 20, 2018                 1.1   \n",
      "\n",
      "    Android Ver  \n",
      "0  4.0.3 and up  \n",
      "1  4.0.3 and up  \n",
      "2  4.0.3 and up  \n",
      "3    4.2 and up  \n",
      "4    4.4 and up  \n"
     ]
    }
   ],
   "source": [
    "print(df.head())"
   ]
  },
  {
   "cell_type": "markdown",
   "id": "ad319a8f",
   "metadata": {},
   "source": [
    "**missing values and data types**"
   ]
  },
  {
   "cell_type": "code",
   "execution_count": 4,
   "id": "f5353dae",
   "metadata": {},
   "outputs": [
    {
     "name": "stdout",
     "output_type": "stream",
     "text": [
      "Sum of Missing Values: \n",
      " App                  0\n",
      "Category             0\n",
      "Rating            1474\n",
      "Reviews              0\n",
      "Size                 0\n",
      "Installs             0\n",
      "Type                 1\n",
      "Price                0\n",
      "Content Rating       1\n",
      "Genres               0\n",
      "Last Updated         0\n",
      "Current Ver          8\n",
      "Android Ver          3\n",
      "dtype: int64\n"
     ]
    }
   ],
   "source": [
    "print('Sum of Missing Values: \\n',df.isnull().sum())"
   ]
  },
  {
   "cell_type": "code",
   "execution_count": 5,
   "id": "550e71ae",
   "metadata": {},
   "outputs": [
    {
     "name": "stdout",
     "output_type": "stream",
     "text": [
      "App                object\n",
      "Category           object\n",
      "Rating            float64\n",
      "Reviews            object\n",
      "Size               object\n",
      "Installs           object\n",
      "Type               object\n",
      "Price              object\n",
      "Content Rating     object\n",
      "Genres             object\n",
      "Last Updated       object\n",
      "Current Ver        object\n",
      "Android Ver        object\n",
      "dtype: object\n"
     ]
    }
   ],
   "source": [
    "print(df.dtypes)"
   ]
  },
  {
   "cell_type": "markdown",
   "id": "2468692a",
   "metadata": {},
   "source": [
    "> Info about data : \n",
    "- Shape : (10841, 13)    \n",
    "- conversion of columns Reviews, Size, Installs, Price have type object that requires conversion to int\n",
    "- columns Rating(1474), Type(1), Content rating(1), Current Ver(8), Android Ver(3) has missing values \n"
   ]
  },
  {
   "cell_type": "code",
   "execution_count": 6,
   "id": "f8236e11",
   "metadata": {},
   "outputs": [],
   "source": [
    "df['Rating'] = pd.to_numeric(df['Rating'], errors='coerce')"
   ]
  },
  {
   "cell_type": "code",
   "execution_count": 7,
   "id": "6f3a787b",
   "metadata": {},
   "outputs": [],
   "source": [
    "median_rating = df['Rating'].median()"
   ]
  },
  {
   "cell_type": "code",
   "execution_count": 8,
   "id": "a234422d",
   "metadata": {},
   "outputs": [
    {
     "name": "stderr",
     "output_type": "stream",
     "text": [
      "C:\\Users\\anike\\AppData\\Local\\Temp\\ipykernel_25276\\1150621113.py:1: FutureWarning: A value is trying to be set on a copy of a DataFrame or Series through chained assignment using an inplace method.\n",
      "The behavior will change in pandas 3.0. This inplace method will never work because the intermediate object on which we are setting values always behaves as a copy.\n",
      "\n",
      "For example, when doing 'df[col].method(value, inplace=True)', try using 'df.method({col: value}, inplace=True)' or df[col] = df[col].method(value) instead, to perform the operation inplace on the original object.\n",
      "\n",
      "\n",
      "  df['Rating'].fillna(median_rating, inplace=True)\n"
     ]
    }
   ],
   "source": [
    "df['Rating'].fillna(median_rating, inplace=True)"
   ]
  },
  {
   "cell_type": "code",
   "execution_count": 9,
   "id": "8d7167d6",
   "metadata": {},
   "outputs": [],
   "source": [
    "df = df[df['Rating'].between(0, 5)]  # Ratings must be 0-5"
   ]
  },
  {
   "cell_type": "code",
   "execution_count": 10,
   "id": "ff6b9ee4",
   "metadata": {},
   "outputs": [],
   "source": [
    "df['Installs'] = df['Installs'].str.replace(r'[+,]', '', regex=True)"
   ]
  },
  {
   "cell_type": "code",
   "execution_count": 11,
   "id": "c4d93c34",
   "metadata": {},
   "outputs": [],
   "source": [
    "df['Installs'] = pd.to_numeric(df['Installs'], errors='coerce')"
   ]
  },
  {
   "cell_type": "code",
   "execution_count": 12,
   "id": "9ed679d7",
   "metadata": {},
   "outputs": [],
   "source": [
    "def convert_size(size):\n",
    "    if 'M' in size:\n",
    "        return float(size.replace('M', ''))           # “19M” → 19.0 MB\n",
    "    elif 'k' in size:\n",
    "        return float(size.replace('k', '')) / 1024    # “500k” → 0.48828125 MB\n",
    "    else:\n",
    "        return np.nan                                 # “Varies with device” → NaN"
   ]
  },
  {
   "cell_type": "code",
   "execution_count": 13,
   "id": "9fd961e9",
   "metadata": {},
   "outputs": [],
   "source": [
    "df['Size'] = df['Size'].apply(convert_size)"
   ]
  },
  {
   "cell_type": "code",
   "execution_count": 14,
   "id": "246ffb08",
   "metadata": {},
   "outputs": [],
   "source": [
    "df['Price'] = df['Price'].replace('Free', 0)\n",
    "df['Price'] = df['Price'].str.replace('$', '').astype(float)"
   ]
  },
  {
   "cell_type": "code",
   "execution_count": 15,
   "id": "c45c0800",
   "metadata": {},
   "outputs": [
    {
     "name": "stdout",
     "output_type": "stream",
     "text": [
      "New Shape: (10840, 13)\n"
     ]
    }
   ],
   "source": [
    "# Drop the rows with critical missing data \n",
    "df.dropna(subset=['App', 'Category'], inplace=True)\n",
    "\n",
    "df.to_csv(\"processed/PlayStoreData_CLEAN.csv\", index=False)\n",
    "print(\"New Shape:\", df.shape)"
   ]
  },
  {
   "cell_type": "code",
   "execution_count": 16,
   "id": "b0c84447",
   "metadata": {},
   "outputs": [],
   "source": [
    "# Calculate MEDIAN size PER CATEGORY (e.g., all GAME apps)\n",
    "category_medians = df.groupby('Category')['Size'].median()\n",
    "\n",
    "# Fill missing Size with MEDIAN of its category\n",
    "df['Size'] = df.apply(\n",
    "    lambda row: category_medians[row['Category']] \n",
    "                if pd.isna(row['Size']) \n",
    "                else row['Size'], \n",
    "    axis=1\n",
    ")"
   ]
  },
  {
   "cell_type": "code",
   "execution_count": 17,
   "id": "b96af118",
   "metadata": {},
   "outputs": [],
   "source": [
    "df['Reviews'] = df['Reviews'].str.replace(',', '').astype(int)  # \"1,000\" → 1000"
   ]
  },
  {
   "cell_type": "code",
   "execution_count": 18,
   "id": "9c21e490",
   "metadata": {},
   "outputs": [
    {
     "name": "stdout",
     "output_type": "stream",
     "text": [
      "Missing Values: \n",
      " App               0\n",
      "Category          0\n",
      "Rating            0\n",
      "Reviews           0\n",
      "Size              0\n",
      "Installs          0\n",
      "Type              1\n",
      "Price             0\n",
      "Content Rating    0\n",
      "Genres            0\n",
      "Last Updated      0\n",
      "Current Ver       8\n",
      "Android Ver       2\n",
      "dtype: int64\n"
     ]
    }
   ],
   "source": [
    "print('Missing Values: \\n',df.isnull().sum())"
   ]
  },
  {
   "cell_type": "code",
   "execution_count": 19,
   "id": "e82913e2",
   "metadata": {},
   "outputs": [
    {
     "name": "stdout",
     "output_type": "stream",
     "text": [
      "Top Categories: \n",
      " Category\n",
      "FAMILY    1972\n",
      "GAME      1144\n",
      "TOOLS      843\n",
      "Name: count, dtype: int64\n"
     ]
    }
   ],
   "source": [
    "print('Top Categories: \\n',df['Category'].value_counts().head(3))"
   ]
  },
  {
   "cell_type": "code",
   "execution_count": 20,
   "id": "7c9d9533",
   "metadata": {},
   "outputs": [
    {
     "name": "stdout",
     "output_type": "stream",
     "text": [
      "Data Types:  App                object\n",
      "Category           object\n",
      "Rating            float64\n",
      "Reviews             int64\n",
      "Size              float64\n",
      "Installs            int64\n",
      "Type               object\n",
      "Price             float64\n",
      "Content Rating     object\n",
      "Genres             object\n",
      "Last Updated       object\n",
      "Current Ver        object\n",
      "Android Ver        object\n",
      "dtype: object\n"
     ]
    }
   ],
   "source": [
    "print('Data Types: ',df.dtypes)"
   ]
  },
  {
   "cell_type": "markdown",
   "id": "e7311d5e",
   "metadata": {},
   "source": [
    "> Info after Cleanup\n",
    "- Shape:  (10840, 13)\n",
    "- converted required columns from object to integer\n",
    "- filled missing values :\n",
    "    - rating : median value\n",
    "    - size : median calculated category wise"
   ]
  },
  {
   "cell_type": "code",
   "execution_count": 21,
   "id": "5599713b",
   "metadata": {},
   "outputs": [
    {
     "name": "stdout",
     "output_type": "stream",
     "text": [
      "                            App          Category  Rating   Reviews  Size  \\\n",
      "2808              Google Photos       PHOTOGRAPHY     4.5  10858556   NaN   \n",
      "2853              Google Photos       PHOTOGRAPHY     4.5  10858538   NaN   \n",
      "3223  Maps - Navigate & Explore  TRAVEL_AND_LOCAL     4.3   9235373   NaN   \n",
      "3117  Maps - Navigate & Explore  TRAVEL_AND_LOCAL     4.3   9235155   NaN   \n",
      "3234                     Google             TOOLS     4.4   8033493   NaN   \n",
      "\n",
      "        Installs  Type  Price Content Rating          Genres    Last Updated  \\\n",
      "2808  1000000000  Free    0.0       Everyone     Photography  August 6, 2018   \n",
      "2853  1000000000  Free    0.0       Everyone     Photography  August 6, 2018   \n",
      "3223  1000000000  Free    0.0       Everyone  Travel & Local   July 31, 2018   \n",
      "3117  1000000000  Free    0.0       Everyone  Travel & Local   July 31, 2018   \n",
      "3234  1000000000  Free    0.0       Everyone           Tools  August 3, 2018   \n",
      "\n",
      "             Current Ver         Android Ver  \n",
      "2808  Varies with device  Varies with device  \n",
      "2853  Varies with device  Varies with device  \n",
      "3223  Varies with device  Varies with device  \n",
      "3117  Varies with device  Varies with device  \n",
      "3234  Varies with device  Varies with device  \n"
     ]
    }
   ],
   "source": [
    "df =pd.read_csv(\"processed/PlayStoreData_CLEAN.csv\")\n",
    "print(df.sort_values(by='Installs', ascending=False).head())"
   ]
  },
  {
   "cell_type": "markdown",
   "id": "cf59ff49",
   "metadata": {},
   "source": []
  }
 ],
 "metadata": {
  "kernelspec": {
   "display_name": "Python 3",
   "language": "python",
   "name": "python3"
  },
  "language_info": {
   "codemirror_mode": {
    "name": "ipython",
    "version": 3
   },
   "file_extension": ".py",
   "mimetype": "text/x-python",
   "name": "python",
   "nbconvert_exporter": "python",
   "pygments_lexer": "ipython3",
   "version": "3.11.0"
  }
 },
 "nbformat": 4,
 "nbformat_minor": 5
}
