{
 "cells": [
  {
   "cell_type": "code",
   "execution_count": 1,
   "id": "12691f77",
   "metadata": {},
   "outputs": [],
   "source": [
    "import pandas as pd"
   ]
  },
  {
   "cell_type": "code",
   "execution_count": null,
   "id": "368dc102",
   "metadata": {},
   "outputs": [],
   "source": [
    "playstore = pd.read_csv(\"processed/PlayStoreData_CLEAN.csv\")\n",
    "reviews_agg = pd.read_csv(\"processed/UserReview_Aggregated.csv\")"
   ]
  },
  {
   "cell_type": "code",
   "execution_count": null,
   "id": "6ca6f680",
   "metadata": {},
   "outputs": [],
   "source": [
    "merged = pd.merge(playstore, reviews_agg, on='App')\n",
    "merged.to_csv(\"processed/Merged_PlayStore_Reviews.csv\", index=False)"
   ]
  },
  {
   "cell_type": "code",
   "execution_count": 4,
   "id": "3ac10184",
   "metadata": {},
   "outputs": [
    {
     "name": "stdout",
     "output_type": "stream",
     "text": [
      "Correlation between Rating and Avg_Polarity: 0.2201\n"
     ]
    }
   ],
   "source": [
    "correlation = merged['Rating'].corr(merged['Avg_Polarity'])\n",
    "print(f\"Correlation between Rating and Avg_Polarity: {correlation:.4f}\")"
   ]
  },
  {
   "cell_type": "code",
   "execution_count": 5,
   "id": "2afa4a82",
   "metadata": {},
   "outputs": [
    {
     "name": "stdout",
     "output_type": "stream",
     "text": [
      "                             App        Category  Rating  Reviews  Size  \\\n",
      "2  FlipaClip - Cartoon animation  ART_AND_DESIGN     4.3   194216  39.0   \n",
      "1           Garden Coloring Book  ART_AND_DESIGN     4.4    13791  33.0   \n",
      "0            Coloring book moana  ART_AND_DESIGN     3.9      967  14.0   \n",
      "\n",
      "   Installs  Type  Price Content Rating                     Genres  \\\n",
      "2   5000000  Free    0.0       Everyone               Art & Design   \n",
      "1   1000000  Free    0.0       Everyone               Art & Design   \n",
      "0    500000  Free    0.0       Everyone  Art & Design;Pretend Play   \n",
      "\n",
      "         Last Updated Current Ver   Android Ver  Avg_Polarity  \\\n",
      "2      August 3, 2018       2.2.5  4.0.3 and up      0.412649   \n",
      "1  September 20, 2017       2.9.2    3.0 and up      0.268483   \n",
      "0    January 15, 2018       2.0.0  4.0.3 and up      0.152652   \n",
      "\n",
      "   Avg_Subjectivity  Review_Count  \n",
      "2          0.679226             4  \n",
      "1          0.523447            90  \n",
      "0          0.641540            44  \n"
     ]
    }
   ],
   "source": [
    "print(merged.head(3).sort_values(by='Avg_Polarity', ascending=False))"
   ]
  },
  {
   "cell_type": "code",
   "execution_count": null,
   "id": "d2a7cbc6",
   "metadata": {},
   "outputs": [],
   "source": []
  }
 ],
 "metadata": {
  "kernelspec": {
   "display_name": "Python 3",
   "language": "python",
   "name": "python3"
  },
  "language_info": {
   "codemirror_mode": {
    "name": "ipython",
    "version": 3
   },
   "file_extension": ".py",
   "mimetype": "text/x-python",
   "name": "python",
   "nbconvert_exporter": "python",
   "pygments_lexer": "ipython3",
   "version": "3.11.0"
  }
 },
 "nbformat": 4,
 "nbformat_minor": 5
}
